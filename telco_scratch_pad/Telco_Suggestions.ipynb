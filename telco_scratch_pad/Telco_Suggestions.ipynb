{
 "cells": [
  {
   "cell_type": "markdown",
   "metadata": {},
   "source": [
    "### Suggestions for Reducing Future Churn:\n",
    "\n",
    "1.) A high percentage of customers seem to anticipate churning in hopes for a better deal, hence the 55% of the base opting for month-to-month contracts.  It is clear they are aware of better deals going to new subcribers, and thus choose the monthly contract to avoid cancellation charges and optimize their switch over to the new provider.  Anticipating this, we must figure out a way to get month-to-month contracts converted over to annual or bi-annual contracts where the turnover is much, much less.  \n",
    "\n",
    "A suggested way to do this is to offer a running contract-lowest-price match with other carriers in exchange for a one- or two year commitment.  More beneficial to us would be to stage the offerings based on the reciprocated commitment.  The longer you stay, the longer we'll match, plus a high emphasis on the convenience of staying with us. \n",
    "\n",
    "Also, with this Covid\\-19 scare, we should implement a crisis payment of one dollar for that month.  Pay a dollar, keep your phone and your plan as is.  If there is any sort of crisis (pandemic, divorce, death in the family) offering a \"3 Wishes\" plan would allow for the customers to pay a single dollar that month they experience the financial setback.  To offset the cost of this (it is assumed a high perentage will take advantage of / abuse this), we can offer it as an insurance policy add-on for $3-5 / month.  Assuming this increases our retention rate by even 5\\%, we will easily recoup any additional costs.\n",
    "\n",
    "2.) Gather more regional data to feature engineer a customer location model.  While the dataset provided was thorough, there was no indication of regional influence on churn.  It can be predicted that urbanized areas with higher populations will churn more often than our rural customers due to the fact that our competitors have highly-targeted marketing and an actual physical presence in larger metropolitan areas. \n",
    "\n",
    "3.) Outbound Customer Service / Technical Support efforts - the fact that we retain 85\\% of customers who utilize our Technical Support offerings is an enormous indication of reciprocated loyalty. Active follow-up with customers who have utilized our Tech Support - \"Did you get that problem resolved?\"  \"Are you still having any issues with that problem?\" - is a complete value-add that would not increase our current overhead.  Our Tech Support team is already employed by us; all they would have to do is make five calls a day to follow-up on a customers' most recent 'call-in' issue."
   ]
  },
  {
   "cell_type": "code",
   "execution_count": null,
   "metadata": {},
   "outputs": [],
   "source": []
  }
 ],
 "metadata": {
  "kernelspec": {
   "display_name": "Python 3",
   "language": "python",
   "name": "python3"
  },
  "language_info": {
   "codemirror_mode": {
    "name": "ipython",
    "version": 3
   },
   "file_extension": ".py",
   "mimetype": "text/x-python",
   "name": "python",
   "nbconvert_exporter": "python",
   "pygments_lexer": "ipython3",
   "version": "3.7.4"
  }
 },
 "nbformat": 4,
 "nbformat_minor": 2
}
