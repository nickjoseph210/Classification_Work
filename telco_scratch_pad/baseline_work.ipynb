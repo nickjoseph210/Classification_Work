{
 "cells": [
  {
   "cell_type": "markdown",
   "metadata": {},
   "source": [
    "#### Going with Random Prediction Algorithm\n",
    "\n",
    "- easy to use and implement\n",
    "- says I have to store all the distinct outcome values in the training data\n",
    "- fix the random number seed prior to using the algorithm to get the same set of \n",
    "random numbers and the same decisions each time the algorithm is run\n",
    "\n",
    "-the function takes both a training dataset that includes output values \n",
    "and a test dataset for which output values must be predicted.\n",
    "\n",
    "- The function will work for both classification and regression problems. \n",
    "It assumes that the output value in the training data \n",
    "is the final column for each row.\n",
    "\n",
    "- First, the set of unique output values is collected from the training data. \n",
    "Then a randomly selected output value from the set is selected for\n",
    "each row in the test set.\n"
   ]
  },
  {
   "cell_type": "code",
   "execution_count": 1,
   "metadata": {},
   "outputs": [],
   "source": [
    "def rand_algo(train, test):\n",
    "    output_values = [row[-1] for row in train]\n",
    "    unique = list(set(output_values))\n",
    "    predicted = list()\n",
    "    for row in test:\n",
    "        index = randrange(len(uniqu))\n",
    "        predicted.append(unique[index])\n",
    "    return predicted"
   ]
  },
  {
   "cell_type": "markdown",
   "metadata": {},
   "source": [
    "#### Zero Rule Algorithm\n",
    "\n",
    "- uses information about a given problem to create one rule in order to make predictions\n",
    "\n",
    "- predict the class value that is most common in the dataset\n",
    "\n",
    "- eg: in a set of 100 datapoints of class \"1\" and class \"0,\" if a training dataset has 90 instances of \"0\" and 10 instances of \"1\", it will predict \"0\" to achieve a baseline accuracy of 90 / 100.  "
   ]
  },
  {
   "cell_type": "code",
   "execution_count": 3,
   "metadata": {},
   "outputs": [],
   "source": [
    "from random import seed\n",
    "from random import randrange\n",
    "\n",
    "def zero_rule_algo(train, test):\n",
    "    output_values = [row[-1] for row in train]\n",
    "    prediction = max(set(output_values), key=output_values.count)\n",
    "    predicted = [prediction for i in range(len(train))]\n",
    "    return predicted\n",
    "\n",
    "# max() function takes a set of unique class values and calls the \n",
    "# count on the list of class values for each class value in the set.\n",
    "\n",
    "\n",
    " \n",
    "# zero rule algorithm for classification\n",
    "def zero_rule_algorithm_classification(train, test):\n",
    "\toutput_values = [row[-1] for row in train]\n",
    "\tprediction = max(set(output_values), key=output_values.count)\n",
    "\tpredicted = [prediction for i in range(len(train))]\n",
    "\treturn predicted\n",
    " \n",
    "seed(1)\n",
    "train = [['0'], ['0'], ['0'], ['0'], ['1'], ['1']]\n",
    "test = [[None], [None], [None], [None]]\n",
    "predictions = zero_rule_algorithm_classification(train, test)\n",
    "print(predictions)"
   ]
  }
 ],
 "metadata": {
  "kernelspec": {
   "display_name": "Python 3",
   "language": "python",
   "name": "python3"
  },
  "language_info": {
   "codemirror_mode": {
    "name": "ipython",
    "version": 3
   },
   "file_extension": ".py",
   "mimetype": "text/x-python",
   "name": "python",
   "nbconvert_exporter": "python",
   "pygments_lexer": "ipython3",
   "version": "3.7.4"
  }
 },
 "nbformat": 4,
 "nbformat_minor": 2
}
